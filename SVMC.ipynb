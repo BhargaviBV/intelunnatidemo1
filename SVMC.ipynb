{
 "cells": [
  {
   "cell_type": "code",
   "execution_count": 35,
   "id": "a0b5a480-84fb-4be0-af6a-ffca488d5e7f",
   "metadata": {},
   "outputs": [],
   "source": [
    "from sklearn.datasets import fetch_openml"
   ]
  },
  {
   "cell_type": "code",
   "execution_count": 32,
   "id": "4225fca4-f76e-4c7b-9159-0ce8d4ce62fb",
   "metadata": {},
   "outputs": [],
   "source": [
    "x,y=fetch_openml(name=\"a9a\", return_X_y=True)"
   ]
  },
  {
   "cell_type": "code",
   "execution_count": 33,
   "id": "85d08de4-e529-472d-b622-413bd34cba20",
   "metadata": {},
   "outputs": [
    {
     "data": {
      "text/plain": [
       "<48842x123 sparse matrix of type '<class 'numpy.float64'>'\n",
       "\twith 677323 stored elements in Compressed Sparse Row format>"
      ]
     },
     "execution_count": 33,
     "metadata": {},
     "output_type": "execute_result"
    }
   ],
   "source": [
    "x"
   ]
  },
  {
   "cell_type": "code",
   "execution_count": 27,
   "id": "c89d16dc-1857-40e4-9bb5-af4f81ef47ee",
   "metadata": {},
   "outputs": [],
   "source": [
    "from sklearn.model_selection import train_test_split\n",
    "x_train,x_test,y_train,y_test=train_test_split(x,y,test_size=0.01,random_state=0)"
   ]
  },
  {
   "cell_type": "code",
   "execution_count": 34,
   "id": "53bf67ca-bf39-4bb3-9b33-d4187bbfaf82",
   "metadata": {},
   "outputs": [
    {
     "name": "stdout",
     "output_type": "stream",
     "text": [
      "Defaulting to user installation because normal site-packages is not writeable\n",
      "Requirement already satisfied: scikit-learn-intelex in /usr/local/lib/python3.9/site-packages (2024.3.0)\n",
      "Requirement already satisfied: daal4py==2024.3.0 in /usr/local/lib/python3.9/site-packages (from scikit-learn-intelex) (2024.3.0)\n",
      "Requirement already satisfied: scikit-learn>=0.22 in /usr/local/lib64/python3.9/site-packages (from scikit-learn-intelex) (1.4.2)\n",
      "Requirement already satisfied: numpy>=1.19 in /usr/local/lib64/python3.9/site-packages (from daal4py==2024.3.0->scikit-learn-intelex) (1.26.4)\n",
      "Requirement already satisfied: daal==2024.3.0 in /usr/local/lib/python3.9/site-packages (from daal4py==2024.3.0->scikit-learn-intelex) (2024.3.0)\n",
      "Requirement already satisfied: scipy>=1.6.0 in /usr/local/lib64/python3.9/site-packages (from scikit-learn>=0.22->scikit-learn-intelex) (1.13.0)\n",
      "Requirement already satisfied: threadpoolctl>=2.0.0 in /usr/local/lib/python3.9/site-packages (from scikit-learn>=0.22->scikit-learn-intelex) (3.5.0)\n",
      "Requirement already satisfied: joblib>=1.2.0 in /usr/local/lib/python3.9/site-packages (from scikit-learn>=0.22->scikit-learn-intelex) (1.4.2)\n",
      "Requirement already satisfied: tbb==2021.* in /usr/local/lib/python3.9/site-packages (from daal==2024.3.0->daal4py==2024.3.0->scikit-learn-intelex) (2021.12.0)\n"
     ]
    }
   ],
   "source": [
    "!pip3.9 install scikit-learn-intelex"
   ]
  },
  {
   "cell_type": "code",
   "execution_count": 28,
   "id": "0342821a-62ab-48f2-b4f5-889936ceb3a8",
   "metadata": {},
   "outputs": [
    {
     "name": "stderr",
     "output_type": "stream",
     "text": [
      "Intel(R) Extension for Scikit-learn* enabled (https://github.com/intel/scikit-learn-intelex)\n"
     ]
    }
   ],
   "source": [
    "from sklearnex import patch_sklearn\n",
    "patch_sklearn()"
   ]
  },
  {
   "cell_type": "code",
   "execution_count": 24,
   "id": "32a4f830-8197-4aaa-a3fb-ebdeec9d5f7e",
   "metadata": {},
   "outputs": [
    {
     "data": {
      "text/plain": [
       "'intel extension for scikit learn time for SVC : 73.18 s'"
      ]
     },
     "execution_count": 24,
     "metadata": {},
     "output_type": "execute_result"
    }
   ],
   "source": [
    "from sklearn.svm import SVC\n",
    "from timeit import default_timer as timer\n",
    "params = {\"kernel\":\"rbf\",\"C\":10}\n",
    "start=timer()\n",
    "model=SVC(**params).fit(x_train,y_train)\n",
    "train_patched=timer()-start\n",
    "\n",
    "f\"intel extension for scikit learn time for SVC : {train_patched:.2f} s\""
   ]
  },
  {
   "cell_type": "code",
   "execution_count": 36,
   "id": "1070f41c-9715-4d26-b0cd-6d17051275f9",
   "metadata": {},
   "outputs": [],
   "source": [
    "from sklearnex import unpatch_sklearn\n",
    "unpatch_sklearn()"
   ]
  },
  {
   "cell_type": "code",
   "execution_count": 37,
   "id": "a464c12e-7a99-424d-952f-c7f4dc95ad1f",
   "metadata": {},
   "outputs": [
    {
     "data": {
      "text/plain": [
       "'Original scikit-learn time: 1665.50s'"
      ]
     },
     "execution_count": 37,
     "metadata": {},
     "output_type": "execute_result"
    }
   ],
   "source": [
    "from sklearn.svm import SVC\n",
    "start=timer()\n",
    "model=SVC(**params).fit(x_train,y_train)\n",
    "train_unpatched=timer()-start\n",
    "f\"Original scikit-learn time: {train_unpatched:.2f}s\""
   ]
  },
  {
   "cell_type": "code",
   "execution_count": 38,
   "id": "8ef14cf1-0955-4342-bf8a-b5f41ba036f3",
   "metadata": {},
   "outputs": [
    {
     "data": {
      "text/plain": [
       "'Got a speedup of 22.76 times faster'"
      ]
     },
     "execution_count": 38,
     "metadata": {},
     "output_type": "execute_result"
    }
   ],
   "source": [
    "f\"Got a speedup of {(train_unpatched/train_patched):.2f} times faster\""
   ]
  },
  {
   "cell_type": "code",
   "execution_count": null,
   "id": "350c73db-7443-457b-aad0-4e1f3aadeed0",
   "metadata": {},
   "outputs": [],
   "source": []
  }
 ],
 "metadata": {
  "kernelspec": {
   "display_name": "Python 3 (ipykernel)",
   "language": "python",
   "name": "python3"
  },
  "language_info": {
   "codemirror_mode": {
    "name": "ipython",
    "version": 3
   },
   "file_extension": ".py",
   "mimetype": "text/x-python",
   "name": "python",
   "nbconvert_exporter": "python",
   "pygments_lexer": "ipython3",
   "version": "3.9.18"
  }
 },
 "nbformat": 4,
 "nbformat_minor": 5
}
